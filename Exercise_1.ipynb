{
 "cells": [
  {
   "cell_type": "markdown",
   "id": "2d5c114b",
   "metadata": {},
   "source": [
    "import statistics as stats"
   ]
  },
  {
   "cell_type": "code",
   "execution_count": 1,
   "id": "c92a256e",
   "metadata": {},
   "outputs": [],
   "source": [
    "import statistics as stats"
   ]
  },
  {
   "cell_type": "code",
   "execution_count": null,
   "id": "c019cd3f",
   "metadata": {},
   "outputs": [],
   "source": [
    "# 1.1 We saw that a dataset can have more than one mode. But can a dataset have more than one median? --> False"
   ]
  },
  {
   "cell_type": "code",
   "execution_count": null,
   "id": "bf5648e8",
   "metadata": {},
   "outputs": [],
   "source": [
    "#Given the data in the list:\n",
    "data = [4, 7, 5, 9, 8, 6, 7, 7, 8, 5, 6, 9, 8, 5, 8, 7, 4, 7, 3, 6, 8, 9, 7, 6, 9]\n",
    "#What is the mean, median, and mode of the dataset.\n",
    "#Create a new dictionary called data_dictionary and store the above answers as key value pairs in the dictionary.\n"
   ]
  },
  {
   "cell_type": "code",
   "execution_count": 3,
   "id": "76c56f2d",
   "metadata": {},
   "outputs": [],
   "source": [
    "data = [4, 7, 5, 9, 8, 6, 7, 7, 8, 5, 6, 9, 8, 5, 8, 7, 4, 7, 3, 6, 8, 9, 7, 6, 9]"
   ]
  },
  {
   "cell_type": "code",
   "execution_count": 4,
   "id": "f92286b1",
   "metadata": {},
   "outputs": [
    {
     "data": {
      "text/plain": [
       "6.72"
      ]
     },
     "execution_count": 4,
     "metadata": {},
     "output_type": "execute_result"
    }
   ],
   "source": [
    "stats.mean(data)"
   ]
  },
  {
   "cell_type": "code",
   "execution_count": 5,
   "id": "7efd0a02",
   "metadata": {},
   "outputs": [
    {
     "data": {
      "text/plain": [
       "7"
      ]
     },
     "execution_count": 5,
     "metadata": {},
     "output_type": "execute_result"
    }
   ],
   "source": [
    "stats.median(data)"
   ]
  },
  {
   "cell_type": "code",
   "execution_count": 8,
   "id": "1fe0b592",
   "metadata": {},
   "outputs": [
    {
     "data": {
      "text/plain": [
       "7"
      ]
     },
     "execution_count": 8,
     "metadata": {},
     "output_type": "execute_result"
    }
   ],
   "source": [
    "stats.mode(data)"
   ]
  },
  {
   "cell_type": "code",
   "execution_count": 9,
   "id": "168cf104",
   "metadata": {},
   "outputs": [
    {
     "name": "stdout",
     "output_type": "stream",
     "text": [
      "{'Mean': 6.72, 'Median': 7, 'Mode': 7}\n"
     ]
    }
   ],
   "source": [
    "data_dictionary = {'Mean': 6.72, 'Median': 7, 'Mode': 7}\n",
    "print(data_dictionary)"
   ]
  },
  {
   "cell_type": "code",
   "execution_count": null,
   "id": "dfedfa90",
   "metadata": {},
   "outputs": [],
   "source": [
    "#1.2 To find which statistic do you have to arrange the data in an ascending order?\n",
    "# To find the median\n",
    "\n",
    "#1.4 How do you find the median when there are even number of data points?\n",
    "# You have to ordem the numbers in ascending number and, for even data points, the one who is just in the middle is the median\n",
    "\n",
    "#What are outliers in a dataset? Which of the three - Mean, Median, and Mode - is more susceptible to change with presence of outliers in the data?\n",
    "#Outliers are data points that are quite different from the main data, for example, in this list [2,4,6,3,5,7,288], the number 288 is an outlier.\n",
    "#The mean is the more susceptible to it."
   ]
  }
 ],
 "metadata": {
  "kernelspec": {
   "display_name": "Python 3",
   "language": "python",
   "name": "python3"
  },
  "language_info": {
   "codemirror_mode": {
    "name": "ipython",
    "version": 3
   },
   "file_extension": ".py",
   "mimetype": "text/x-python",
   "name": "python",
   "nbconvert_exporter": "python",
   "pygments_lexer": "ipython3",
   "version": "3.8.8"
  }
 },
 "nbformat": 4,
 "nbformat_minor": 5
}
