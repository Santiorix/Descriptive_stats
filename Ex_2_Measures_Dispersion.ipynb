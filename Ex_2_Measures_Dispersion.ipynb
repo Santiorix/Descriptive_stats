{
 "cells": [
  {
   "cell_type": "code",
   "execution_count": null,
   "id": "36eaf59c",
   "metadata": {},
   "outputs": [],
   "source": [
    "#1.1 What is the range for the data set?"
   ]
  },
  {
   "cell_type": "code",
   "execution_count": 9,
   "id": "56f01a5b",
   "metadata": {},
   "outputs": [
    {
     "name": "stdout",
     "output_type": "stream",
     "text": [
      "29\n"
     ]
    }
   ],
   "source": [
    "example = [-4, 17, 25, 19, 6, 11, 7]\n",
    "import statistics as stats\n",
    "example_range = max(example)-min(example)\n",
    "print(example_range)\n"
   ]
  },
  {
   "cell_type": "code",
   "execution_count": 10,
   "id": "af84aac5",
   "metadata": {},
   "outputs": [
    {
     "data": {
      "text/plain": [
       "2.804757862395017"
      ]
     },
     "execution_count": 10,
     "metadata": {},
     "output_type": "execute_result"
    }
   ],
   "source": [
    "#How does the standard deviation change when 6 is replaced with 12? Does it increase, or decrease, or it remains the same?\n",
    "data = [2,4,7,1,6,8]\n",
    "import statistics as stats\n",
    "stats.stdev(data)"
   ]
  },
  {
   "cell_type": "code",
   "execution_count": 12,
   "id": "a43dbbb3",
   "metadata": {},
   "outputs": [
    {
     "data": {
      "text/plain": [
       "4.131182235954578"
      ]
     },
     "execution_count": 12,
     "metadata": {},
     "output_type": "execute_result"
    }
   ],
   "source": [
    "data_12 = [2,4,7,1,12,8]\n",
    "stats.stdev(data_12)"
   ]
  },
  {
   "cell_type": "code",
   "execution_count": null,
   "id": "440ab5bf",
   "metadata": {},
   "outputs": [],
   "source": [
    "#The standard deviation increase\n",
    "#1.3 Is is possible to have a dataset with 0 standard deviation or variance? If yes, can you think of any dataset with 6 data points that have 0 standard deviation?\n",
    "# Yes it is possible to have a dataset with standar deviation=0, for example, if all the data points of the data set are the same."
   ]
  },
  {
   "cell_type": "code",
   "execution_count": null,
   "id": "c9d0ab8e",
   "metadata": {},
   "outputs": [],
   "source": [
    "#1.4 We know that standard deviation is a measure of spread in the dataset. What is meant by deviation here? What is the formula for calculating deviation? Can deviation be negative?\n",
    "# The deviation is the difference between the point and the mean. The formula is the square root of the sumatory of (x1-xm)^2)/(n-1).The result fo a square it can not be negative."
   ]
  },
  {
   "cell_type": "code",
   "execution_count": null,
   "id": "ddee5c3e",
   "metadata": {},
   "outputs": [],
   "source": [
    "#1.5 Given the dataset in the list: What is the deviation from the mean for each of the points in the list? Write a for loop and print each of the values."
   ]
  },
  {
   "cell_type": "code",
   "execution_count": 17,
   "id": "a061d212",
   "metadata": {},
   "outputs": [
    {
     "name": "stdout",
     "output_type": "stream",
     "text": [
      "-18.5\n",
      "-29.5\n",
      "-7.5\n",
      "23.5\n",
      "-7.5\n",
      "39.5\n"
     ]
    }
   ],
   "source": [
    "Exercise_1_5 = [23, 12, 34, 65, 34, 81]\n",
    "import statistics as stats\n",
    "for i in Exercise_1_5:\n",
    "    a= stats.mean(Exercise_1_5)\n",
    "    print(i-a)\n",
    "    \n",
    "    \n"
   ]
  },
  {
   "cell_type": "code",
   "execution_count": null,
   "id": "0f263a8f",
   "metadata": {},
   "outputs": [],
   "source": [
    "#1.6 How is standard deviation different than variance? Because of the unit. The stansard deviation is under the square root so it can be compared with the data points"
   ]
  }
 ],
 "metadata": {
  "kernelspec": {
   "display_name": "Python 3",
   "language": "python",
   "name": "python3"
  },
  "language_info": {
   "codemirror_mode": {
    "name": "ipython",
    "version": 3
   },
   "file_extension": ".py",
   "mimetype": "text/x-python",
   "name": "python",
   "nbconvert_exporter": "python",
   "pygments_lexer": "ipython3",
   "version": "3.8.8"
  }
 },
 "nbformat": 4,
 "nbformat_minor": 5
}
